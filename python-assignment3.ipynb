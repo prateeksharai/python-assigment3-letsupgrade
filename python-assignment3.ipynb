{
 "cells": [
  {
   "cell_type": "code",
   "execution_count": 11,
   "metadata": {},
   "outputs": [
    {
     "name": "stdout",
     "output_type": "stream",
     "text": [
      "enter no4\n",
      "0\n",
      "1\n",
      "2\n",
      "3\n",
      "4\n",
      "sum of n no is 10\n"
     ]
    }
   ],
   "source": [
    "##sum of n numbers with the help of while loop\n",
    "n=int(input('enter no'))\n",
    "sum1=0\n",
    "i=0\n",
    "while i<=n:\n",
    "    sum1=sum1+i\n",
    "    print(i)\n",
    "    i+=1\n",
    "print('sum of n no is',sum1)"
   ]
  },
  {
   "cell_type": "code",
   "execution_count": 15,
   "metadata": {},
   "outputs": [
    {
     "name": "stdout",
     "output_type": "stream",
     "text": [
      "enter no\n",
      "4\n",
      "not prime\n"
     ]
    }
   ],
   "source": [
    "##to find prime or not\n",
    "n=int(input('enter no\\n'))\n",
    "if n%2!=0:\n",
    "    print('prime')\n",
    "else:\n",
    "    print('not prime')\n",
    "    \n",
    "    "
   ]
  },
  {
   "cell_type": "code",
   "execution_count": null,
   "metadata": {},
   "outputs": [],
   "source": []
  }
 ],
 "metadata": {
  "kernelspec": {
   "display_name": "Python 3",
   "language": "python",
   "name": "python3"
  },
  "language_info": {
   "codemirror_mode": {
    "name": "ipython",
    "version": 3
   },
   "file_extension": ".py",
   "mimetype": "text/x-python",
   "name": "python",
   "nbconvert_exporter": "python",
   "pygments_lexer": "ipython3",
   "version": "3.8.1"
  }
 },
 "nbformat": 4,
 "nbformat_minor": 4
}
